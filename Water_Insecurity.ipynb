{
  "nbformat": 4,
  "nbformat_minor": 0,
  "metadata": {
    "colab": {
      "provenance": [],
      "mount_file_id": "12auPeFXBdI9tE5FHrKmCIEnA-gdcJqXm",
      "authorship_tag": "ABX9TyP4G8Pqw96RUrWOqmI5ogN3",
      "include_colab_link": true
    },
    "kernelspec": {
      "name": "python3",
      "display_name": "Python 3"
    },
    "language_info": {
      "name": "python"
    }
  },
  "cells": [
    {
      "cell_type": "markdown",
      "metadata": {
        "id": "view-in-github",
        "colab_type": "text"
      },
      "source": [
        "<a href=\"https://colab.research.google.com/github/eDoggo3779/Water_Insecurity/blob/main/Water_Insecurity.ipynb\" target=\"_parent\"><img src=\"https://colab.research.google.com/assets/colab-badge.svg\" alt=\"Open In Colab\"/></a>"
      ]
    },
    {
      "cell_type": "markdown",
      "source": [],
      "metadata": {
        "id": "n5U8wkaGT3D_"
      }
    },
    {
      "cell_type": "markdown",
      "source": [
        "To what extent are plumbing and water insecurity outcomes across U.S. counties associated with education levels and racial/ethnic composition?"
      ],
      "metadata": {
        "id": "bcZIg4PCT1nm"
      }
    },
    {
      "cell_type": "code",
      "source": [
        "from google.colab import drive\n",
        "drive.mount('/content/drive')\n",
        "\n",
        "import numpy as np\n",
        "import pandas as pd\n",
        "import matplotlib.pyplot as plt\n",
        "import seaborn as sns\n",
        "from sklearn.model_selection import train_test_split"
      ],
      "metadata": {
        "id": "aMx_0XT_Zvg8",
        "colab": {
          "base_uri": "https://localhost:8080/"
        },
        "outputId": "2f31f6ae-9b60-44d9-ebc9-0c0219756244"
      },
      "execution_count": 87,
      "outputs": [
        {
          "output_type": "stream",
          "name": "stdout",
          "text": [
            "Drive already mounted at /content/drive; to attempt to forcibly remount, call drive.mount(\"/content/drive\", force_remount=True).\n"
          ]
        }
      ]
    },
    {
      "cell_type": "code",
      "source": [
        "df22 = pd.read_csv(\"/content/drive/MyDrive/DSRP/water_insecurity_2022.csv\")\n",
        "df22.dropna(inplace=True)\n",
        "\n",
        "df22[['county', 'state']] = df22['name'].str.split(',', n=1, expand=True)\n",
        "df22['county'] = df22['county'].str.strip()\n",
        "df22['state'] = df22['state'].str.strip()\n",
        "\n",
        "df22['plp_scaled'] = df22['percent_lacking_plumbing'].apply(lambda x: np.log10(x) if x > 0 else 0)\n",
        "\n",
        "df22 = df22[['geoid', 'year', 'name', 'geometry', 'state', 'county', 'total_pop', 'plumbing', 'percent_lacking_plumbing', \"plp_scaled\"]]"
      ],
      "metadata": {
        "id": "l_0DOxB5abcz",
        "collapsed": true
      },
      "execution_count": 88,
      "outputs": []
    },
    {
      "cell_type": "code",
      "source": [
        "# Steven Manson, Jonathan Schroeder, David Van Riper,\n",
        "# Katherine Knowles, Tracy Kugler, Finn Roberts, and Steven Ruggles.\n",
        "# IPUMS National Historical Geographic Information System: Version 19.0 [dataset].\n",
        "# Minneapolis, MN: IPUMS. 2024. http://doi.org/10.18128/D050.V19.0\n",
        "\n",
        "edu_df = pd.read_csv(\"/content/drive/MyDrive/DSRP/nhgis0001_ds261_2022_county - filtered.csv\")\n",
        "edu_df.drop(columns='Unnamed: 5', inplace=True)\n",
        "edu_df.dropna(inplace=True)"
      ],
      "metadata": {
        "collapsed": true,
        "id": "nqJRO4keaCA0"
      },
      "execution_count": 89,
      "outputs": []
    },
    {
      "cell_type": "code",
      "source": [
        "# Steven Manson, Jonathan Schroeder, David Van Riper,\n",
        "# Katherine Knowles, Tracy Kugler, Finn Roberts, and Steven Ruggles.\n",
        "# IPUMS National Historical Geographic Information System: Version 19.0 [dataset].\n",
        "# Minneapolis, MN: IPUMS. 2024. http://doi.org/10.18128/D050.V19.0\n",
        "\n",
        "race_df = pd.read_csv(\"/content/drive/MyDrive/DSRP/nhgis0003_ds261_2022_county - filtered.csv\")\n",
        "race_df.dropna(inplace=True)"
      ],
      "metadata": {
        "id": "pmRjHyou76wd"
      },
      "execution_count": 90,
      "outputs": []
    },
    {
      "cell_type": "code",
      "source": [
        "merged_df = df22.merge(edu_df, on=['geoid', 'year', 'name', 'state', 'county'], how='inner').merge(race_df, on=['geoid', 'year', 'name', 'state', 'county'], how='inner')\n",
        "merged_df.rename(columns={'total_surveyed_x': 'total_edu', 'total_surveyed_y': 'total_race'}, inplace=True)"
      ],
      "metadata": {
        "id": "lX_V6Xryt8Fx"
      },
      "execution_count": 102,
      "outputs": []
    },
    {
      "cell_type": "code",
      "source": [
        "# NOTE THAT THE MAP DOESN'T MAP PUERTO RICO\n",
        "\n",
        "import plotly.express as px\n",
        "import json\n",
        "\n",
        "from urllib.request import urlopen\n",
        "with urlopen('https://raw.githubusercontent.com/plotly/datasets/master/geojson-counties-fips.json') as response:\n",
        "    counties = json.load(response)\n",
        "\n",
        "# Plot\n",
        "fig = px.choropleth(df22, geojson=counties, locations='geoid', color='plp_scaled', color_continuous_scale='Viridis', hover_name='name', scope='usa')\n",
        "fig.show()"
      ],
      "metadata": {
        "collapsed": true,
        "id": "n6PDwyETGU3r"
      },
      "execution_count": null,
      "outputs": []
    }
  ]
}